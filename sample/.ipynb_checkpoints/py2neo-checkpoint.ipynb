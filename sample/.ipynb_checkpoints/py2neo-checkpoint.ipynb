{
 "cells": [
  {
   "cell_type": "markdown",
   "metadata": {},
   "source": [
    "# py2neo\n",
    "By Zhanghan Wang  \n",
    "Refer to [The Py2neo v4 Handbook](https://py2neo.org/v4/index.html#)  \n",
    "\n",
    "This is a .ipynb file to illustrate how to use py2neo\n",
    "\n",
    "## Style\n",
    "\n",
    "| Graph entity | Recommended style | Example |\n",
    "|:-|:-|:-|\n",
    "| Node label | Camel case, beginning with an uppercase character | `:VehicleOwner` rather than `:vehice_owner` |\n",
    "| Relationship type | Upper case, using underscore to separate words | `:OWNS_VEHICLE` rather than `:ownsVehicle` |\n",
    "| Property | Lower camel case, beginning with a lower-case character | `firstName` rather than `first_name` |"
   ]
  },
  {
   "cell_type": "markdown",
   "metadata": {},
   "source": [
    "## Import"
   ]
  },
  {
   "cell_type": "code",
   "execution_count": 1,
   "metadata": {},
   "outputs": [
    {
     "name": "stdout",
     "output_type": "stream",
     "text": [
      "5.0b1\n"
     ]
    }
   ],
   "source": [
    "import pprint\n",
    "import numpy as np\n",
    "import pandas as pd\n",
    "import py2neo\n",
    "print(py2neo.__version__)\n",
    "from py2neo import *\n",
    "from py2neo.ogm import *"
   ]
  },
  {
   "cell_type": "markdown",
   "metadata": {},
   "source": [
    "## Attention!\n",
    "To run the following codes, you may need to initialize your database by run the code in the next cell.\n",
    "\n",
    "**!!!This code will delete all data in your database!!!**"
   ]
  },
  {
   "cell_type": "code",
   "execution_count": 2,
   "metadata": {},
   "outputs": [
    {
     "data": {
      "text/plain": []
     },
     "execution_count": 2,
     "metadata": {},
     "output_type": "execute_result"
    }
   ],
   "source": [
    "graph = Graph()\n",
    "graph.run(\"MATCH (all) DETACH DELETE all\")\n",
    "graph.run(\"CREATE (:Person {name:'Alice'})-[:KNOWS]->(:Person {name:'Bob'})\"\n",
    "          \"CREATE (:Person {name:'Ada'})-[:KNOWS]->(:Person {name:'Hank'})\"\n",
    "         )"
   ]
  },
  {
   "cell_type": "markdown",
   "metadata": {},
   "source": [
    "## 1. py2neo.data – Data Types\n",
    "\n",
    "Here are some basic operations about the data, including nodes and relationships.\n",
    "\n",
    "- [py2neo.data.Node](https://py2neo.org/v4/data.html#py2neo.data.Node)  \n",
    "- [py2neo.data.Relationship](https://py2neo.org/v4/data.html#py2neo.data.Relationship)  \n",
    "- [py2neo.data.Subgraph](https://py2neo.org/v4/data.html#py2neo.data.Subgraph)\n",
    "    - |, &, -, ^ are allowed here."
   ]
  },
  {
   "cell_type": "markdown",
   "metadata": {},
   "source": [
    "### 1.1 Node and Relationships"
   ]
  },
  {
   "cell_type": "code",
   "execution_count": 3,
   "metadata": {},
   "outputs": [
    {
     "name": "stdout",
     "output_type": "stream",
     "text": [
      "(:Person {name: 'Alice'})\n",
      "(:Person {name: 'Bob'})\n",
      "(Alice)-[:KNOWS {}]->(Bob)\n",
      "(Alice)-[:WorksWith {}]->(Carol)\n"
     ]
    }
   ],
   "source": [
    "# Create some nodes and relationships\n",
    "a = Node('Person', name='Alice')\n",
    "b = Node('Person', name='Bob')\n",
    "ab = Relationship(a, 'KNOWS', b)\n",
    "print(a, b, ab, sep='\\n')\n",
    "\n",
    "# Create a relationship by extending the Relationship class\n",
    "c = Node(\"Person\", name=\"Carol\")\n",
    "class WorksWith(Relationship):\n",
    "    pass\n",
    "ac = WorksWith(a, c)\n",
    "type(ac)\n",
    "print(ac)"
   ]
  },
  {
   "cell_type": "markdown",
   "metadata": {},
   "source": [
    "### 1.2 Subgraph\n",
    "\n",
    "By definition, a `Subgraph` must contain at least one node; null subgraphs should be represented by `None`.\n",
    "\n",
    "> I don't know how to print `s.keys` and `s.types`"
   ]
  },
  {
   "cell_type": "code",
   "execution_count": 4,
   "metadata": {},
   "outputs": [
    {
     "name": "stdout",
     "output_type": "stream",
     "text": [
      "{KNOWS(Node('Person', name='Alice'), Node('Person', name='Bob')), WorksWith(Node('Person', name='Alice'), Node('Person', name='Carol'))}\n",
      "frozenset({'Person'})\n",
      "{Node('Person', name='Alice'), Node('Person', name='Bob'), Node('Person', name='Carol')}\n",
      "{KNOWS(Node('Person', name='Alice'), Node('Person', name='Bob')), WorksWith(Node('Person', name='Alice'), Node('Person', name='Carol'))}\n",
      "<bound method Subgraph.keys of Subgraph({Node('Person', name='Alice'), Node('Person', name='Bob'), Node('Person', name='Carol')}, {KNOWS(Node('Person', name='Alice'), Node('Person', name='Bob')), WorksWith(Node('Person', name='Alice'), Node('Person', name='Carol'))})>\n",
      "<bound method Subgraph.types of Subgraph({Node('Person', name='Alice'), Node('Person', name='Bob'), Node('Person', name='Carol')}, {KNOWS(Node('Person', name='Alice'), Node('Person', name='Bob')), WorksWith(Node('Person', name='Alice'), Node('Person', name='Carol'))})>\n"
     ]
    }
   ],
   "source": [
    "s = ab | ac\n",
    "\n",
    "print(set(s))\n",
    "print(s.labels)\n",
    "\n",
    "# to print them, we can transform them into set\n",
    "print(set(s.nodes))\n",
    "print(set(s.relationships))\n",
    "\n",
    "# I don't know how to print them.\n",
    "print(s.keys)\n",
    "print(s.types)"
   ]
  },
  {
   "cell_type": "markdown",
   "metadata": {},
   "source": [
    "### 1.3 Path objects and other Walkable types\n",
    "\n",
    "[py2neo.data.Walkable](https://py2neo.org/v4/data.html#py2neo.data.Walkable)"
   ]
  },
  {
   "cell_type": "code",
   "execution_count": 5,
   "metadata": {},
   "outputs": [
    {
     "name": "stdout",
     "output_type": "stream",
     "text": [
      "w.__class__: <class 'py2neo.data.Walkable'>\n",
      "start_node: (:Person {name: 'Alice'})\n",
      "end_node: (:Person {name: 'Alice'})\n",
      "nodes(<class 'tuple'>): (Node('Person', name='Alice'), Node('Person', name='Bob'), Node('Person', name='Carol'), Node('Person', name='Alice'))\n",
      "relationships(<class 'tuple'>): (KNOWS(Node('Person', name='Alice'), Node('Person', name='Bob')), LIKES(Node('Person', name='Bob'), Node('Person', name='Carol')), WorksWith(Node('Person', name='Alice'), Node('Person', name='Carol')))\n",
      "walk:\n",
      "\t0th yield: (:Person {name: 'Alice'})\n",
      "\t1th yield: (Alice)-[:KNOWS {}]->(Bob)\n",
      "\t2th yield: (:Person {name: 'Bob'})\n",
      "\t3th yield: (Bob)-[:LIKES {}]->(Carol)\n",
      "\t4th yield: (:Person {name: 'Carol'})\n",
      "\t5th yield: (Alice)-[:WorksWith {}]->(Carol)\n",
      "\t6th yield: (:Person {name: 'Alice'})\n"
     ]
    }
   ],
   "source": [
    "w = ab + Relationship(b, \"LIKES\", c) + ac\n",
    "print(\"w.__class__: {}\".format(w.__class__))\n",
    "print(\"start_node: {}\\nend_node: {}\".format(w.start_node, w.end_node))\n",
    "print(\"nodes({}): {}\".format(w.nodes.__class__, w.nodes))\n",
    "print(\"relationships({}): {}\".format(w.relationships.__class__, w.relationships))\n",
    "print(\"walk:\")\n",
    "i = 0;\n",
    "for item in walk(w):\n",
    "    print(\"\\t{}th yield: {}\".format(i, item))\n",
    "    i += 1"
   ]
  },
  {
   "cell_type": "markdown",
   "metadata": {},
   "source": [
    "### 1.4 Record Objects and Table Objects\n",
    "\n",
    "#### [Record](https://py2neo.org/v4/data.html#py2neo.data.Record)\n",
    "A `Record` object holds an ordered, keyed collection of values. It is in many ways similar to a namedtuple but allows field access only through bracketed syntax and provides more functionality. `Record` extends both tuple and Mapping.\n",
    "\n",
    "#### [Table](https://py2neo.org/v4/data.html#py2neo.data.Table)\n",
    "A `Table` holds a list of `Record` objects, typically received as the result of a Cypher query. It provides a convenient container for working with a result in its entirety and provides methods for conversion into various output formats. `Table` extends `list`."
   ]
  },
  {
   "cell_type": "markdown",
   "metadata": {},
   "source": [
    "## 2. Connect to Your Database"
   ]
  },
  {
   "cell_type": "markdown",
   "metadata": {},
   "source": [
    "### 2.1 Database and Graph\n",
    "\n",
    "Neo4j only supports one Graph per Database.\n",
    "\n",
    "- [py2neo.database](https://py2neo.org/v4/database.html)\n",
    "- [py2neo.database.Graph](https://py2neo.org/v4/database.html#py2neo.database.Graph)\n",
    "\n",
    "> I don't know how to get the `Graph` instance from the `Database` instance."
   ]
  },
  {
   "cell_type": "code",
   "execution_count": 6,
   "metadata": {},
   "outputs": [
    {
     "name": "stdout",
     "output_type": "stream",
     "text": [
      "Connected to a graph:\n",
      "Graph('bolt://neo4j@localhost:7687', name='neo4j')\n"
     ]
    }
   ],
   "source": [
    "# Connect to the database\n",
    "#db = Database(\"bolt://localhost:7687\")\n",
    "#print('Connected to a database.\\nURI: {}, name: {}:\\n'.format(db.uri, db.name))\n",
    "# Return the graph from the database\n",
    "graph = Graph(\"bolt://localhost:7687\")\n",
    "print('Connected to a graph:\\n{}'.format(graph))"
   ]
  },
  {
   "cell_type": "markdown",
   "metadata": {},
   "source": [
    "#### 2.1.1 Graph Operations"
   ]
  },
  {
   "cell_type": "code",
   "execution_count": 7,
   "metadata": {},
   "outputs": [
    {
     "name": "stdout",
     "output_type": "stream",
     "text": [
      "<py2neo.matching.NodeMatcher object at 0x7f787821ec90>\n",
      "5\n",
      "KeyError\n",
      "(_14:Person {name: 'Alice'})\n",
      "(Alice)-[:KNOWS {}]->(Bob)\n",
      "By match: (_14:Person {name: 'Alice'}); By new a Node: (:Person {name: 'Alice'})\n"
     ]
    }
   ],
   "source": [
    "# Create\n",
    "Shirley = Node('Person', name='Shirley')\n",
    "## the code is annotated in case creating node each time you run\n",
    "# graph.create(Shirley)\n",
    "## but we can use merge here. \n",
    "## We can consider merge as creating if not existing(that is updating)\n",
    "graph.merge(Shirley, 'Person', 'name')\n",
    "\n",
    "# nodes\n",
    "print(graph.nodes)\n",
    "print(len(graph.nodes))\n",
    "## get specific nodes\n",
    "### get by id\n",
    "try:\n",
    "    print(graph.nodes[0])\n",
    "    print(graph.nodes.get(1))\n",
    "except KeyError:\n",
    "    print(\"KeyError\")\n",
    "except:\n",
    "    print(\"Error\")\n",
    "### get by match\n",
    "Alice = graph.nodes.match('Person', name='Alice').first()\n",
    "print(Alice)\n",
    "\n",
    "# get relationships using matcher\n",
    "print(graph.relationships.match((Alice,)).first()) \n",
    "## Node here cannot be newed by Node, there are some differences\n",
    "print('By match: {}; By new a Node: {}'.format(Alice, Node('Person', name='Alice')))"
   ]
  },
  {
   "cell_type": "markdown",
   "metadata": {},
   "source": [
    "#### 2.1.2 Merge"
   ]
  },
  {
   "cell_type": "code",
   "execution_count": 8,
   "metadata": {},
   "outputs": [],
   "source": [
    "shirley = graph.nodes.match('Person', name='Shirley').first()\n",
    "hank = graph.nodes.match('Person', name='Hank').first()\n",
    "bob = graph.nodes.match('Person', name='Bob').first()\n",
    "\n",
    "KNOWS = Relationship.type(\"KNOWS\")\n",
    "ISFRIEND = Relationship.type(\"ISFRIEND\")\n",
    "graph.merge(ISFRIEND(hank, shirley) | ISFRIEND(shirley, hank) | KNOWS(bob, hank), \"Person\", \"name\")"
   ]
  },
  {
   "cell_type": "markdown",
   "metadata": {},
   "source": [
    "### 2.2 Transactions"
   ]
  },
  {
   "cell_type": "code",
   "execution_count": 9,
   "metadata": {},
   "outputs": [
    {
     "name": "stdout",
     "output_type": "stream",
     "text": [
      "False False False (:Person {name: 'Shirley'})\n",
      "True True True (_18:Person {name: 'Shirley'})\n"
     ]
    }
   ],
   "source": [
    "# begin a new transaction\n",
    "tx = graph.begin()\n",
    "a = Node(\"Person\", name=\"Shirley\")\n",
    "b = Node(\"Person\", name=\"Hank\")\n",
    "ab = Relationship(a, \"KNOWS\", b)\n",
    "# still the same problem mentioned in 2.2.1\n",
    "print(graph.exists(ab), graph.exists(a), graph.exists(b), a)\n",
    "tx.merge(ab, 'Person', 'name')\n",
    "tx.commit()\n",
    "print(graph.exists(ab), graph.exists(a), graph.exists(b), a)"
   ]
  },
  {
   "cell_type": "markdown",
   "metadata": {},
   "source": [
    "### 2.3 Cypher Results\n",
    "\n",
    "\n",
    "\n",
    "The Cpyher Results `Cursor` are returned by some fuunctions like `run`, and you can get information about the `run` by the `Cursor`.\n",
    "\n",
    "Turn to the handbook when needing:\n",
    "- [Cypher Results](https://py2neo.org/v4/database.html#cypher-results): `py2neo.database.Cursor`"
   ]
  },
  {
   "cell_type": "code",
   "execution_count": 10,
   "metadata": {},
   "outputs": [
    {
     "name": "stdout",
     "output_type": "stream",
     "text": [
      "[{'a.name': 'Alice'}, {'a.name': 'Bob'}]\n"
     ]
    },
    {
     "data": {
      "text/html": [
       "<table><tr><th>Start</th><th>Relationship</th><th>End</th></tr><tr><td style=\"text-align:left\">(_14:Person {name: &#039;Alice&#039;})</td><td style=\"text-align:left\">(Alice)-[:KNOWS {}]-&gt;(Bob)</td><td style=\"text-align:left\">(_15:Person {name: &#039;Bob&#039;})</td></tr><tr><td style=\"text-align:left\">(_18:Person {name: &#039;Shirley&#039;})</td><td style=\"text-align:left\">(Shirley)-[:KNOWS {}]-&gt;(Hank)</td><td style=\"text-align:left\">(_17:Person {name: &#039;Hank&#039;})</td></tr><tr><td style=\"text-align:left\">(_18:Person {name: &#039;Shirley&#039;})</td><td style=\"text-align:left\">(Shirley)-[:LOVES {}]-&gt;(Hank)</td><td style=\"text-align:left\">(_17:Person {name: &#039;Hank&#039;})</td></tr><tr><td style=\"text-align:left\">(_15:Person {name: &#039;Bob&#039;})</td><td style=\"text-align:left\">(Bob)-[:KNOWS {}]-&gt;(Hank)</td><td style=\"text-align:left\">(_17:Person {name: &#039;Hank&#039;})</td></tr><tr><td style=\"text-align:left\">(_16:Person {name: &#039;Ada&#039;})</td><td style=\"text-align:left\">(Ada)-[:KNOWS {}]-&gt;(Hank)</td><td style=\"text-align:left\">(_17:Person {name: &#039;Hank&#039;})</td></tr><tr><td style=\"text-align:left\">(_17:Person {name: &#039;Hank&#039;})</td><td style=\"text-align:left\">(Hank)-[:LOVES {}]-&gt;(Shirley)</td><td style=\"text-align:left\">(_18:Person {name: &#039;Shirley&#039;})</td></tr></table>"
      ],
      "text/plain": [
       " Start                          | Relationship                  | End                            \n",
       "--------------------------------|-------------------------------|--------------------------------\n",
       " (_14:Person {name: 'Alice'})   | (Alice)-[:KNOWS {}]->(Bob)    | (_15:Person {name: 'Bob'})     \n",
       " (_18:Person {name: 'Shirley'}) | (Shirley)-[:KNOWS {}]->(Hank) | (_17:Person {name: 'Hank'})    \n",
       " (_18:Person {name: 'Shirley'}) | (Shirley)-[:LOVES {}]->(Hank) | (_17:Person {name: 'Hank'})    \n",
       " (_15:Person {name: 'Bob'})     | (Bob)-[:KNOWS {}]->(Hank)     | (_17:Person {name: 'Hank'})    \n",
       " (_16:Person {name: 'Ada'})     | (Ada)-[:KNOWS {}]->(Hank)     | (_17:Person {name: 'Hank'})    \n",
       " (_17:Person {name: 'Hank'})    | (Hank)-[:LOVES {}]->(Shirley) | (_18:Person {name: 'Shirley'}) "
      ]
     },
     "metadata": {},
     "output_type": "display_data"
    }
   ],
   "source": [
    "print(graph.run(\"MATCH (a:Person) RETURN a.name LIMIT 2\").data())\n",
    "\n",
    "display(graph.run(\"MATCH (s)-[r]->(e)\"\n",
    "                  \"RETURN s AS Start, r AS Relationship, e AS End\").to_table())"
   ]
  },
  {
   "cell_type": "markdown",
   "metadata": {},
   "source": [
    "### 2.4 Errors & Warnings\n",
    "\n",
    "Turn to the handbook when needing:\n",
    "- [Errors & Warnings](https://py2neo.org/v4/database.html#errors-warnings)"
   ]
  },
  {
   "cell_type": "markdown",
   "metadata": {},
   "source": [
    "## 3. py2neo.matching – Entity matching"
   ]
  },
  {
   "cell_type": "code",
   "execution_count": 11,
   "metadata": {},
   "outputs": [
    {
     "name": "stdout",
     "output_type": "stream",
     "text": [
      "(_18:Person {name: 'Shirley'})\n",
      "[Node('Person', name='Ada'), Node('Person', name='Alice')]\n",
      "(Alice)-[:KNOWS {}]->(Bob)\n",
      "(Bob)-[:KNOWS {}]->(Hank)\n",
      "(Ada)-[:KNOWS {}]->(Hank)\n",
      "(Shirley)-[:KNOWS {}]->(Hank)\n"
     ]
    }
   ],
   "source": [
    "# NodeMatcher\n",
    "matcher = NodeMatcher(graph)\n",
    "print(matcher.match(\"Person\", name=\"Shirley\").first())\n",
    "print(list(matcher.match('Person').where('_.name =~ \"A.*\"').order_by(\"_.name\").limit(3)))\n",
    "# RelationshipMatcher\n",
    "matcher = RelationshipMatcher(graph)\n",
    "# use iteration\n",
    "for r in matcher.match(r_type='KNOWS'):\n",
    "    print(r)"
   ]
  },
  {
   "cell_type": "markdown",
   "metadata": {},
   "source": [
    "## 4. py2neo.ogm – Object-Graph Mapping\n",
    "\n",
    "[py2neo.ogm](https://py2neo.org/v4/ogm.html)\n",
    "\n",
    "The `py2neo.ogm` maps the `Neo4j Objects` into `Python Objects`.\n",
    "\n",
    "To create this, you should extend the class `GraphObject`. By default it is just the class name."
   ]
  },
  {
   "cell_type": "code",
   "execution_count": 12,
   "metadata": {},
   "outputs": [],
   "source": [
    "# Sample classes\n",
    "class Movie(GraphObject):\n",
    "    __primarykey__ = \"title\"\n",
    "\n",
    "    title = Property()\n",
    "    tag_line = Property(\"tagline\")\n",
    "    released = Property()\n",
    "\n",
    "    actors = RelatedFrom(\"Person\", \"ACTED_IN\")\n",
    "    directors = RelatedFrom(\"Person\", \"DIRECTED\")\n",
    "    producers = RelatedFrom(\"Person\", \"PRODUCED\")\n",
    "\n",
    "\n",
    "class Person(GraphObject):\n",
    "    __primarykey__ = \"name\"\n",
    "\n",
    "    name = Property()\n",
    "    born = Property()\n",
    "    isBoy = Label()\n",
    "    likes = RelatedTo(\"Person\")\n",
    "    beliked = RelatedFrom('Person')\n",
    "    friend = Related(\"Person\")\n",
    "\n",
    "    acted_in = RelatedTo(Movie)\n",
    "    directed = RelatedTo(Movie)\n",
    "    produced = RelatedTo(Movie)"
   ]
  },
  {
   "cell_type": "markdown",
   "metadata": {},
   "source": [
    "### 4.1 Node, Property and Label"
   ]
  },
  {
   "cell_type": "code",
   "execution_count": 13,
   "metadata": {},
   "outputs": [
    {
     "name": "stdout",
     "output_type": "stream",
     "text": [
      "<Person name='Alice Smith'>\n",
      "1990\n",
      "False\n",
      "(:Person {born: 1990, name: 'Alice Smith'})\n"
     ]
    }
   ],
   "source": [
    "alice = Person()\n",
    "alice.name = \"Alice Smith\"\n",
    "alice.born = 1990\n",
    "alice.isBoy = False\n",
    "print(alice)\n",
    "print(alice.born)\n",
    "print(alice.isBoy)\n",
    "print(alice.__node__)"
   ]
  },
  {
   "cell_type": "markdown",
   "metadata": {},
   "source": [
    "### 4.2 Related\n",
    "\n",
    "[Related Objects](https://py2neo.org/v4/ogm.html#related-objects)\n",
    "\n",
    "Functions can be used:\n",
    "- add, clear, get, remove, update"
   ]
  },
  {
   "cell_type": "code",
   "execution_count": 14,
   "metadata": {},
   "outputs": [
    {
     "name": "stdout",
     "output_type": "stream",
     "text": [
      "Alice's friends are [<Person name='Bob'>]\n",
      "Alice likes: <Person name='Bob'>\n"
     ]
    }
   ],
   "source": [
    "alice = Person()\n",
    "alice.name = \"Alice Smith\"\n",
    "bob = Person()\n",
    "bob.name = \"Bob\"\n",
    "alice.likes.add(bob)\n",
    "alice.friend.add(bob)\n",
    "bob.friend.add(alice)\n",
    "print(\"Alice's friends are {}\".format(list(alice.friend)))\n",
    "for like in alice.likes:\n",
    "    print('Alice likes: {}'.format(like))"
   ]
  },
  {
   "cell_type": "markdown",
   "metadata": {},
   "source": [
    "### 4.3 Object Matching"
   ]
  },
  {
   "cell_type": "code",
   "execution_count": 15,
   "metadata": {},
   "outputs": [
    {
     "name": "stdout",
     "output_type": "stream",
     "text": [
      "[<Person name='Alice'>, <Person name='Ada'>]\n"
     ]
    }
   ],
   "source": [
    "print(list(Person.match(graph).where('_.name =~ \"A.*\"')))"
   ]
  },
  {
   "cell_type": "markdown",
   "metadata": {},
   "source": [
    "### 4.4 Object Operations"
   ]
  },
  {
   "cell_type": "code",
   "execution_count": 16,
   "metadata": {},
   "outputs": [
    {
     "name": "stdout",
     "output_type": "stream",
     "text": [
      "(_19:Person {name: 'Jack'})\n"
     ]
    }
   ],
   "source": [
    "jack = Person()\n",
    "jack.name = 'Jack'\n",
    "graph.merge(jack)\n",
    "print(jack.__node__)"
   ]
  },
  {
   "cell_type": "markdown",
   "metadata": {},
   "source": [
    "## 5. py2neo.cypher – Cypher Utilities"
   ]
  },
  {
   "cell_type": "markdown",
   "metadata": {},
   "source": [
    "## 6. py2neo.cypher.lexer – Cypher Lexer"
   ]
  }
 ],
 "metadata": {
  "kernelspec": {
   "display_name": "Python 3",
   "language": "python",
   "name": "python3"
  },
  "language_info": {
   "codemirror_mode": {
    "name": "ipython",
    "version": 3
   },
   "file_extension": ".py",
   "mimetype": "text/x-python",
   "name": "python",
   "nbconvert_exporter": "python",
   "pygments_lexer": "ipython3",
   "version": "3.7.7"
  }
 },
 "nbformat": 4,
 "nbformat_minor": 4
}
